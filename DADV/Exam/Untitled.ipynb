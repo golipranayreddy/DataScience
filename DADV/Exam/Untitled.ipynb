{
 "cells": [
  {
   "cell_type": "code",
   "execution_count": 3,
   "metadata": {},
   "outputs": [],
   "source": [
    "import urllib3\n",
    "import pytz\n",
    "import datetime\n",
    "from bs4 import BeautifulSoup\n",
    "import csv"
   ]
  },
  {
   "cell_type": "code",
   "execution_count": 14,
   "metadata": {
    "scrolled": true
   },
   "outputs": [
    {
     "name": "stdout",
     "output_type": "stream",
     "text": [
      "{'industrials': ['<td><a class=\"external text\" href=\"https://www.nyse.com/quote/XNYS:XYL\" rel=\"nofollow\">XYL</a>\\n</td>'], 'health_care': ['<td><a class=\"external text\" href=\"https://www.nyse.com/quote/XNYS:ZTS\" rel=\"nofollow\">ZTS</a>\\n</td>'], 'information_technology': ['<td><a class=\"external text\" href=\"http://www.nasdaq.com/symbol/zbra\" rel=\"nofollow\">ZBRA</a>\\n</td>'], 'communication_services': ['<td><a class=\"external text\" href=\"https://www.nyse.com/quote/XNYS:DIS\" rel=\"nofollow\">DIS</a>\\n</td>'], 'consumer_discretionary': ['<td><a class=\"external text\" href=\"https://www.nyse.com/quote/XNYS:YUM\" rel=\"nofollow\">YUM</a>\\n</td>'], 'utilities': ['<td><a class=\"external text\" href=\"http://www.nasdaq.com/symbol/xel\" rel=\"nofollow\">XEL</a>\\n</td>'], 'financials': ['<td><a class=\"external text\" href=\"http://www.nasdaq.com/symbol/zion\" rel=\"nofollow\">ZION</a>\\n</td>'], 'materials': ['<td><a class=\"external text\" href=\"https://www.nyse.com/quote/XNYS:WRK\" rel=\"nofollow\">WRK</a>\\n</td>'], 'real_estate': ['<td><a class=\"external text\" href=\"https://www.nyse.com/quote/XNYS:WY\" rel=\"nofollow\">WY</a>\\n</td>'], 'consumer_staples': ['<td><a class=\"external text\" href=\"http://www.nasdaq.com/symbol/wba\" rel=\"nofollow\">WBA</a>\\n</td>'], 'energy': ['<td><a class=\"external text\" href=\"https://www.nyse.com/quote/XNYS:WMB\" rel=\"nofollow\">WMB</a>\\n</td>']}\n"
     ]
    }
   ],
   "source": [
    "http = urllib3.PoolManager()\n",
    "scrap = http.request('GET', 'https://en.wikipedia.org/wiki/List_of_S%26P_500_companies')\n",
    "scrap.status\n",
    "scrap.data\n",
    "soup = BeautifulSoup(scrap.data)\n",
    "table = soup.find('table', {'class' : 'wikitable'})\n",
    "sec_tickers = dict()\n",
    "for row in table.findAll('tr'):\n",
    "  col = row.findAll('td')\n",
    "  if len(col) > 0:\n",
    "    sector = str(col[3].string.strip()).lower().replace(' ', '_')\n",
    "    ticker = str(col[0]).strip()\n",
    "    if sector not in sector_tickers:\n",
    "      sec_tickers[sector] = list()\n",
    "      sec_tickers[sector].append(ticker)\n",
    "print(sec_tickers)"
   ]
  },
  {
   "cell_type": "code",
   "execution_count": null,
   "metadata": {},
   "outputs": [],
   "source": []
  },
  {
   "cell_type": "code",
   "execution_count": null,
   "metadata": {},
   "outputs": [],
   "source": []
  }
 ],
 "metadata": {
  "kernelspec": {
   "display_name": "Python 3",
   "language": "python",
   "name": "python3"
  },
  "language_info": {
   "codemirror_mode": {
    "name": "ipython",
    "version": 3
   },
   "file_extension": ".py",
   "mimetype": "text/x-python",
   "name": "python",
   "nbconvert_exporter": "python",
   "pygments_lexer": "ipython3",
   "version": "3.8.5"
  }
 },
 "nbformat": 4,
 "nbformat_minor": 4
}
