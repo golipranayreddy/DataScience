{
 "cells": [
  {
   "cell_type": "code",
   "execution_count": 31,
   "metadata": {},
   "outputs": [
    {
     "name": "stdout",
     "output_type": "stream",
     "text": [
      "[(500002, -13.342882721575645)]\n"
     ]
    }
   ],
   "source": [
    "import time\n",
    "import csv\n",
    "import pandas as pd\n",
    "\n",
    "df_equity = pd.read_csv(\"D:\\\\DataScience\\\\DADV\\\\Assignment-2\\\\Equity.csv\")\n",
    "\n",
    "security_numbers = df_equity[\"Security Code\"].tolist()\n",
    "\n",
    "final_dict = {}\n",
    "\n",
    "no_years = 3\n",
    "no_months = 0\n",
    "\n",
    "for each in security_numbers:\n",
    "    \n",
    "    temp_file = str(each) + \".csv\"\n",
    "    \n",
    "    url = \"D:\\\\DataScience\\\\DADV\\\\Assignment-2\\\\\" + temp_file\n",
    "    \n",
    "    df = pd.read_csv(url)\n",
    "\n",
    "    month_dict = {\"January\" : 1, \"February\" : 2, \"March\" : 3, \"April\" : 4, \"May\" : 5, \"June\" : 6,\"July\" : 7, \"August\" : 8, \"September\" : 9, \"October\" : 10, \"November\" : 11, \"December\" : 12}\n",
    "    \n",
    "    Month_list = []\n",
    "    Year_list = []\n",
    "    Day_list = []\n",
    "    \n",
    "    for each1 in df[\"Date\"].values:\n",
    "        list1 = each1.split(\"-\")\n",
    "        Day_list.append(int(list1[0]))\n",
    "        Month_list.append(month_dict[list1[1]])\n",
    "        Year_list.append(int(list1[2]))        \n",
    "\n",
    "    df[\"Day\"] = Day_list\n",
    "    df[\"Month\"] = Month_list\n",
    "    df[\"Year\"] = Year_list\n",
    "    \n",
    "    last_day = df.iloc[0,:]\n",
    "    \n",
    "    first_day = df.iloc[0,:]\n",
    "    \n",
    "    to_year = last_day[\"Year\"] - no_years \n",
    "    to_month = last_day[\"Month\"] - no_months + 1\n",
    "\n",
    "    for i in range(0, len(df)):\n",
    "        \n",
    "        temp_day = df.iloc[i,:]\n",
    "        \n",
    "        if (temp_day[\"Year\"] == to_year) & (temp_day[\"Month\"] < to_month):\n",
    "            break\n",
    "        elif temp_day[\"Year\"] < to_year:\n",
    "            break\n",
    "        else:\n",
    "            first_day = temp_day\n",
    "    \n",
    "    gain = (last_day[\"Close Price\"] / first_day[\"Close Price\"]) - 1\n",
    "  \n",
    "    gain_per = gain * 100\n",
    "    \n",
    "    final_dict[each] = gain_per\n",
    "    \n",
    "    \n",
    "\n",
    "final_dict = sorted(final_dict.items(), key = lambda x: (-x[1], x[0]),reverse=False)\n",
    "\n",
    "count = 0\n",
    "\n",
    "Top_10_List = []\n",
    "\n",
    "for each_list in final_dict:\n",
    "    count = count + 1\n",
    "    Top_10_List.append(each_list)\n",
    "    if(count == 10):\n",
    "        break\n",
    "    \n",
    "print(Top_10_List)\n"
   ]
  },
  {
   "cell_type": "code",
   "execution_count": null,
   "metadata": {},
   "outputs": [],
   "source": []
  },
  {
   "cell_type": "code",
   "execution_count": null,
   "metadata": {},
   "outputs": [],
   "source": []
  }
 ],
 "metadata": {
  "kernelspec": {
   "display_name": "Python 3",
   "language": "python",
   "name": "python3"
  },
  "language_info": {
   "codemirror_mode": {
    "name": "ipython",
    "version": 3
   },
   "file_extension": ".py",
   "mimetype": "text/x-python",
   "name": "python",
   "nbconvert_exporter": "python",
   "pygments_lexer": "ipython3",
   "version": "3.8.5"
  }
 },
 "nbformat": 4,
 "nbformat_minor": 4
}
