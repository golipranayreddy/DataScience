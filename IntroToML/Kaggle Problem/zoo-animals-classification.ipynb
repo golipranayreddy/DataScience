{
 "cells": [
  {
   "cell_type": "code",
   "execution_count": 1,
   "metadata": {
    "execution": {
     "iopub.execute_input": "2020-11-04T14:08:46.307021Z",
     "iopub.status.busy": "2020-11-04T14:08:46.306268Z",
     "iopub.status.idle": "2020-11-04T14:08:46.313362Z",
     "shell.execute_reply": "2020-11-04T14:08:46.312706Z"
    },
    "papermill": {
     "duration": 0.019902,
     "end_time": "2020-11-04T14:08:46.313470",
     "exception": false,
     "start_time": "2020-11-04T14:08:46.293568",
     "status": "completed"
    },
    "tags": []
   },
   "outputs": [
    {
     "name": "stdout",
     "output_type": "stream",
     "text": [
      "{'1': 'Mammal', '2': 'Bird', '3': 'Reptile', '4': 'Fish', '5': 'Amphibian', '6': 'Bug', '7': 'Invertebrate'}\n"
     ]
    }
   ],
   "source": [
    "import csv \n",
    "dict = {}\n",
    "# opening the CSV file \n",
    "with open('../input/zoo-animal-classification/class.csv', mode ='r')as file: \n",
    "    \n",
    "  # reading the CSV file \n",
    "  csvFile = csv.reader(file) \n",
    "  \n",
    "  # displaying the contents of the CSV file \n",
    "  x = 0\n",
    "  for lines in csvFile: \n",
    "#         print(lines)\n",
    "        if x == 0:\n",
    "            x = 1\n",
    "        else:    \n",
    "            dict[lines[0]] = lines[2]\n",
    "print(dict)\n"
   ]
  },
  {
   "cell_type": "code",
   "execution_count": 2,
   "metadata": {
    "execution": {
     "iopub.execute_input": "2020-11-04T14:08:46.332323Z",
     "iopub.status.busy": "2020-11-04T14:08:46.331605Z",
     "iopub.status.idle": "2020-11-04T14:08:47.029123Z",
     "shell.execute_reply": "2020-11-04T14:08:47.028424Z"
    },
    "papermill": {
     "duration": 0.707851,
     "end_time": "2020-11-04T14:08:47.029244",
     "exception": false,
     "start_time": "2020-11-04T14:08:46.321393",
     "status": "completed"
    },
    "tags": []
   },
   "outputs": [],
   "source": [
    "import numpy as np\n",
    "import pandas as pd\n",
    "import matplotlib.pyplot as plt\n",
    "import seaborn as sns\n",
    "%matplotlib inline"
   ]
  },
  {
   "cell_type": "code",
   "execution_count": 3,
   "metadata": {
    "execution": {
     "iopub.execute_input": "2020-11-04T14:08:47.047761Z",
     "iopub.status.busy": "2020-11-04T14:08:47.046892Z",
     "iopub.status.idle": "2020-11-04T14:08:47.077883Z",
     "shell.execute_reply": "2020-11-04T14:08:47.077424Z"
    },
    "papermill": {
     "duration": 0.042809,
     "end_time": "2020-11-04T14:08:47.077994",
     "exception": false,
     "start_time": "2020-11-04T14:08:47.035185",
     "status": "completed"
    },
    "tags": []
   },
   "outputs": [
    {
     "name": "stdout",
     "output_type": "stream",
     "text": [
      "[[1 0 0 ... 0 0 1]\n",
      " [1 0 0 ... 1 0 1]\n",
      " [0 0 1 ... 1 0 0]\n",
      " ...\n",
      " [1 0 0 ... 1 0 1]\n",
      " [0 0 1 ... 0 0 0]\n",
      " [0 1 1 ... 1 0 0]]\n",
      "--------------------------\n",
      "[1 1 4 1 1 1 1 4 4 1 1 2 4 7 7 7 2 1 4 1 2 2 1 2 6 5 5 1 1 1 6 1 1 2 4 1 1\n",
      " 2 4 6 6 2 6 2 1 1 7 1 1 1 1 6 5 7 1 1 2 2 2 2 4 4 3 1 1 1 1 1 1 1 1 2 7 4\n",
      " 1 1 3 7 2 2 3 7 4 2 1 7 4 2 6 5 3 3 4 1 1 2 1 6 1 7 2]\n",
      "----------------------------\n"
     ]
    },
    {
     "data": {
      "text/html": [
       "<div>\n",
       "<style scoped>\n",
       "    .dataframe tbody tr th:only-of-type {\n",
       "        vertical-align: middle;\n",
       "    }\n",
       "\n",
       "    .dataframe tbody tr th {\n",
       "        vertical-align: top;\n",
       "    }\n",
       "\n",
       "    .dataframe thead th {\n",
       "        text-align: right;\n",
       "    }\n",
       "</style>\n",
       "<table border=\"1\" class=\"dataframe\">\n",
       "  <thead>\n",
       "    <tr style=\"text-align: right;\">\n",
       "      <th></th>\n",
       "      <th>animal_name</th>\n",
       "      <th>hair</th>\n",
       "      <th>feathers</th>\n",
       "      <th>eggs</th>\n",
       "      <th>milk</th>\n",
       "      <th>airborne</th>\n",
       "      <th>aquatic</th>\n",
       "      <th>predator</th>\n",
       "      <th>toothed</th>\n",
       "      <th>backbone</th>\n",
       "      <th>breathes</th>\n",
       "      <th>venomous</th>\n",
       "      <th>fins</th>\n",
       "      <th>legs</th>\n",
       "      <th>tail</th>\n",
       "      <th>domestic</th>\n",
       "      <th>catsize</th>\n",
       "      <th>class_type</th>\n",
       "    </tr>\n",
       "  </thead>\n",
       "  <tbody>\n",
       "    <tr>\n",
       "      <th>0</th>\n",
       "      <td>aardvark</td>\n",
       "      <td>1</td>\n",
       "      <td>0</td>\n",
       "      <td>0</td>\n",
       "      <td>1</td>\n",
       "      <td>0</td>\n",
       "      <td>0</td>\n",
       "      <td>1</td>\n",
       "      <td>1</td>\n",
       "      <td>1</td>\n",
       "      <td>1</td>\n",
       "      <td>0</td>\n",
       "      <td>0</td>\n",
       "      <td>4</td>\n",
       "      <td>0</td>\n",
       "      <td>0</td>\n",
       "      <td>1</td>\n",
       "      <td>1</td>\n",
       "    </tr>\n",
       "    <tr>\n",
       "      <th>1</th>\n",
       "      <td>antelope</td>\n",
       "      <td>1</td>\n",
       "      <td>0</td>\n",
       "      <td>0</td>\n",
       "      <td>1</td>\n",
       "      <td>0</td>\n",
       "      <td>0</td>\n",
       "      <td>0</td>\n",
       "      <td>1</td>\n",
       "      <td>1</td>\n",
       "      <td>1</td>\n",
       "      <td>0</td>\n",
       "      <td>0</td>\n",
       "      <td>4</td>\n",
       "      <td>1</td>\n",
       "      <td>0</td>\n",
       "      <td>1</td>\n",
       "      <td>1</td>\n",
       "    </tr>\n",
       "    <tr>\n",
       "      <th>2</th>\n",
       "      <td>bass</td>\n",
       "      <td>0</td>\n",
       "      <td>0</td>\n",
       "      <td>1</td>\n",
       "      <td>0</td>\n",
       "      <td>0</td>\n",
       "      <td>1</td>\n",
       "      <td>1</td>\n",
       "      <td>1</td>\n",
       "      <td>1</td>\n",
       "      <td>0</td>\n",
       "      <td>0</td>\n",
       "      <td>1</td>\n",
       "      <td>0</td>\n",
       "      <td>1</td>\n",
       "      <td>0</td>\n",
       "      <td>0</td>\n",
       "      <td>4</td>\n",
       "    </tr>\n",
       "    <tr>\n",
       "      <th>3</th>\n",
       "      <td>bear</td>\n",
       "      <td>1</td>\n",
       "      <td>0</td>\n",
       "      <td>0</td>\n",
       "      <td>1</td>\n",
       "      <td>0</td>\n",
       "      <td>0</td>\n",
       "      <td>1</td>\n",
       "      <td>1</td>\n",
       "      <td>1</td>\n",
       "      <td>1</td>\n",
       "      <td>0</td>\n",
       "      <td>0</td>\n",
       "      <td>4</td>\n",
       "      <td>0</td>\n",
       "      <td>0</td>\n",
       "      <td>1</td>\n",
       "      <td>1</td>\n",
       "    </tr>\n",
       "    <tr>\n",
       "      <th>4</th>\n",
       "      <td>boar</td>\n",
       "      <td>1</td>\n",
       "      <td>0</td>\n",
       "      <td>0</td>\n",
       "      <td>1</td>\n",
       "      <td>0</td>\n",
       "      <td>0</td>\n",
       "      <td>1</td>\n",
       "      <td>1</td>\n",
       "      <td>1</td>\n",
       "      <td>1</td>\n",
       "      <td>0</td>\n",
       "      <td>0</td>\n",
       "      <td>4</td>\n",
       "      <td>1</td>\n",
       "      <td>0</td>\n",
       "      <td>1</td>\n",
       "      <td>1</td>\n",
       "    </tr>\n",
       "  </tbody>\n",
       "</table>\n",
       "</div>"
      ],
      "text/plain": [
       "  animal_name  hair  feathers  eggs  milk  airborne  aquatic  predator  \\\n",
       "0    aardvark     1         0     0     1         0        0         1   \n",
       "1    antelope     1         0     0     1         0        0         0   \n",
       "2        bass     0         0     1     0         0        1         1   \n",
       "3        bear     1         0     0     1         0        0         1   \n",
       "4        boar     1         0     0     1         0        0         1   \n",
       "\n",
       "   toothed  backbone  breathes  venomous  fins  legs  tail  domestic  catsize  \\\n",
       "0        1         1         1         0     0     4     0         0        1   \n",
       "1        1         1         1         0     0     4     1         0        1   \n",
       "2        1         1         0         0     1     0     1         0        0   \n",
       "3        1         1         1         0     0     4     0         0        1   \n",
       "4        1         1         1         0     0     4     1         0        1   \n",
       "\n",
       "   class_type  \n",
       "0           1  \n",
       "1           1  \n",
       "2           4  \n",
       "3           1  \n",
       "4           1  "
      ]
     },
     "execution_count": 3,
     "metadata": {},
     "output_type": "execute_result"
    }
   ],
   "source": [
    "animals = pd.read_csv('../input/zoo-animal-classification/zoo.csv')\n",
    "X = animals.iloc[:,1:-1].values\n",
    "Y = animals.iloc[:, 17].values\n",
    "print(X)\n",
    "print(\"--------------------------\")\n",
    "print(Y)\n",
    "print(\"----------------------------\")\n",
    "\n",
    "animals.head()"
   ]
  },
  {
   "cell_type": "code",
   "execution_count": 4,
   "metadata": {
    "execution": {
     "iopub.execute_input": "2020-11-04T14:08:47.095665Z",
     "iopub.status.busy": "2020-11-04T14:08:47.095000Z",
     "iopub.status.idle": "2020-11-04T14:08:47.192257Z",
     "shell.execute_reply": "2020-11-04T14:08:47.191557Z"
    },
    "papermill": {
     "duration": 0.107903,
     "end_time": "2020-11-04T14:08:47.192374",
     "exception": false,
     "start_time": "2020-11-04T14:08:47.084471",
     "status": "completed"
    },
    "tags": []
   },
   "outputs": [
    {
     "name": "stdout",
     "output_type": "stream",
     "text": [
      "[3 1 2 1 1 1 2 4 3 4 3 3 1 6 1 4 2 1 1 1 4 6 2 1 7 1 6 4 1 4 2 1 4 1 1 2 1\n",
      " 2 5 1 1 1 2 2 7 1 1 7 3 1 1 1 1 7 1 2 2 7 7 5 2 7 7 6 1 2 4 5 6 1 2 1 2 2\n",
      " 1 6 1 1 1 1]\n",
      "-------------------------\n",
      "[5 4 4 1 1 1 2 4 1 1 7 1 2 7 4 6 1 6 2 4 2]\n"
     ]
    }
   ],
   "source": [
    "from sklearn.model_selection import train_test_split\n",
    "x_train,x_test,y_train,y_test = train_test_split(X,Y,test_size = 0.2 , random_state = 0)\n",
    "print(y_train)\n",
    "print(\"-------------------------\")\n",
    "print(y_test)"
   ]
  },
  {
   "cell_type": "code",
   "execution_count": 5,
   "metadata": {
    "execution": {
     "iopub.execute_input": "2020-11-04T14:08:47.210855Z",
     "iopub.status.busy": "2020-11-04T14:08:47.210251Z",
     "iopub.status.idle": "2020-11-04T14:08:47.334588Z",
     "shell.execute_reply": "2020-11-04T14:08:47.334026Z"
    },
    "papermill": {
     "duration": 0.135164,
     "end_time": "2020-11-04T14:08:47.334715",
     "exception": false,
     "start_time": "2020-11-04T14:08:47.199551",
     "status": "completed"
    },
    "tags": []
   },
   "outputs": [
    {
     "data": {
      "text/plain": [
       "LogisticRegression()"
      ]
     },
     "execution_count": 5,
     "metadata": {},
     "output_type": "execute_result"
    }
   ],
   "source": [
    "from sklearn.linear_model import LogisticRegression\n",
    "logisticRegr = LogisticRegression()\n",
    "logisticRegr.fit(x_train, y_train)"
   ]
  },
  {
   "cell_type": "code",
   "execution_count": 6,
   "metadata": {
    "execution": {
     "iopub.execute_input": "2020-11-04T14:08:47.356100Z",
     "iopub.status.busy": "2020-11-04T14:08:47.355234Z",
     "iopub.status.idle": "2020-11-04T14:08:47.358417Z",
     "shell.execute_reply": "2020-11-04T14:08:47.359140Z"
    },
    "papermill": {
     "duration": 0.017122,
     "end_time": "2020-11-04T14:08:47.359296",
     "exception": false,
     "start_time": "2020-11-04T14:08:47.342174",
     "status": "completed"
    },
    "tags": []
   },
   "outputs": [
    {
     "name": "stdout",
     "output_type": "stream",
     "text": [
      "[5 4 4 1 1 1 2 4 1 1 7 1 2 7 4 6 1 6 2 4 2]\n",
      "['Amphibian', 'Fish', 'Fish', 'Mammal', 'Mammal', 'Mammal', 'Bird', 'Fish', 'Mammal', 'Mammal', 'Invertebrate', 'Mammal', 'Bird', 'Invertebrate', 'Fish', 'Bug', 'Mammal', 'Bug', 'Bird', 'Fish', 'Bird']\n"
     ]
    }
   ],
   "source": [
    "predictions = logisticRegr.predict(x_test)\n",
    "print(predictions)\n",
    "\n",
    "list1 = []\n",
    "for each in predictions:\n",
    "    each = each.astype(str)\n",
    "    list1.append(dict.get(each))\n",
    "print(list1)\n",
    "\n",
    "    "
   ]
  },
  {
   "cell_type": "code",
   "execution_count": 7,
   "metadata": {
    "execution": {
     "iopub.execute_input": "2020-11-04T14:08:47.381165Z",
     "iopub.status.busy": "2020-11-04T14:08:47.380433Z",
     "iopub.status.idle": "2020-11-04T14:08:47.384380Z",
     "shell.execute_reply": "2020-11-04T14:08:47.383574Z"
    },
    "papermill": {
     "duration": 0.017195,
     "end_time": "2020-11-04T14:08:47.384531",
     "exception": false,
     "start_time": "2020-11-04T14:08:47.367336",
     "status": "completed"
    },
    "tags": []
   },
   "outputs": [
    {
     "name": "stdout",
     "output_type": "stream",
     "text": [
      "1.0\n"
     ]
    }
   ],
   "source": [
    "score = logisticRegr.score(x_test, y_test)\n",
    "print(score)"
   ]
  },
  {
   "cell_type": "code",
   "execution_count": 8,
   "metadata": {
    "execution": {
     "iopub.execute_input": "2020-11-04T14:08:47.416571Z",
     "iopub.status.busy": "2020-11-04T14:08:47.415787Z",
     "iopub.status.idle": "2020-11-04T14:08:47.422042Z",
     "shell.execute_reply": "2020-11-04T14:08:47.421333Z"
    },
    "papermill": {
     "duration": 0.023607,
     "end_time": "2020-11-04T14:08:47.422193",
     "exception": false,
     "start_time": "2020-11-04T14:08:47.398586",
     "status": "completed"
    },
    "tags": []
   },
   "outputs": [
    {
     "name": "stdout",
     "output_type": "stream",
     "text": [
      "[[7 0 0 0 0 0]\n",
      " [0 4 0 0 0 0]\n",
      " [0 0 5 0 0 0]\n",
      " [0 0 0 1 0 0]\n",
      " [0 0 0 0 2 0]\n",
      " [0 0 0 0 0 2]]\n"
     ]
    }
   ],
   "source": [
    "from sklearn import metrics\n",
    "cm = metrics.confusion_matrix(y_test, predictions)\n",
    "print(cm)"
   ]
  }
 ],
 "metadata": {
  "kernelspec": {
   "display_name": "Python 3",
   "language": "python",
   "name": "python3"
  },
  "language_info": {
   "codemirror_mode": {
    "name": "ipython",
    "version": 3
   },
   "file_extension": ".py",
   "mimetype": "text/x-python",
   "name": "python",
   "nbconvert_exporter": "python",
   "pygments_lexer": "ipython3",
   "version": "3.7.6"
  },
  "papermill": {
   "duration": 4.958732,
   "end_time": "2020-11-04T14:08:47.539127",
   "environment_variables": {},
   "exception": null,
   "input_path": "__notebook__.ipynb",
   "output_path": "__notebook__.ipynb",
   "parameters": {},
   "start_time": "2020-11-04T14:08:42.580395",
   "version": "2.1.0"
  }
 },
 "nbformat": 4,
 "nbformat_minor": 4
}
